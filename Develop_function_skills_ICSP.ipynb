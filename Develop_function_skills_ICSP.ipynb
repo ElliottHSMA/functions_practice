{
 "cells": [
  {
   "cell_type": "markdown",
   "id": "0377ec49",
   "metadata": {},
   "source": [
    "### HSMA5 Coding Challenge\n",
    "#### Overview\n",
    "\n",
    "In 2011, The Australian Government (Department of Health and Ageing) made changes to the way that injectable chemotherapy was paid for in private hospitals via the Pharmaceutical Benefits Scheme. Locally known as Intravenous Chemotherapy Supply Programme, the programme resulted in changes in how the price paid to the hospital (or pharmacy services provider) was calculated.\n",
    "\n",
    "These changes described above impacted both independent contractors who provided pharmacy services to private hospitals (Section 90) and internal pharmacy departments (Section 94).\n",
    "We need your help to calculate the impact that these changes will have on the remuneration for chemotherapy. By working through the steps below we want to get you in to a position to be able to address assist with this problem.\n",
    "\n",
    "#### Background\n",
    "\n",
    "First of all, the lowest cost combination of vials was calculated i.e., if the dose was for 1,200 mg and the medication in question came in 500mg (costing AUD 450ea.) and 100mg (costing AUD100ea.) vials – the lowest cost combination would be x2 500mg plus 2x 100mg vials (i.e., AUD1,100) (as opposed to x3 500mg vials, AUD1,350 plus 300mg wastage). The lowest cost combinations will always be provided for you.\n",
    "\n",
    "Once the lowest cost combination had been established, a sliding scale markup needed to be applied. Depending on the cost, either a percentage amount was added, or a fixed fee was added, See Table below.\n",
    "\n",
    "|                  Value of Chemotherapy Supplied \t|  % \t| Flat Fee (AUD) \t|\n",
    "|------------------------------------------------:\t|---:\t|-------------:\t|\n",
    "| Less than or Equal to 30                       \t| 15 \t| -            \t|\n",
    "| Greater than 30, Less than or Equal to 45     \t| -  \t| 4.50         \t|\n",
    "| Greater then 45, Less than or Equal to 180    \t| 10 \t|              \t|\n",
    "| Greater than 180, Less than or Equal to 450   \t|    \t| 18.00        \t|\n",
    "| Greater than 450, Less than or Equal to 1,750 \t| 4  \t|              \t|\n",
    "| Greater than 1,750                             \t|    \t| 70.00        \t|\n",
    "\n",
    "Additional Reading (For Interest Only)\n",
    "1. https://www1.health.gov.au/internet/main/publishing.nsf/Content/chemotherapy-review\n",
    "2. https://www.pbs.gov.au/info/browse/section-100/chemotherapy'"
   ]
  },
  {
   "cell_type": "markdown",
   "id": "384cf7f0",
   "metadata": {},
   "source": [
    "#### Task 1\n",
    "\n",
    "First things first, the Finance Manager at ACME Private Hospital wants to make sure you have the ability to assist with the task in hand. So lets start simple.\n",
    "\n",
    "In Australia, Goods and Service Tax (GST) which is similar to VAT, is set at 10%. Unlike the devolved governments across UK, Australian States and Territories receive the revenue collection from GST within their jurisdictions.\n",
    "\n",
    "*Write a function that would take a float an in input and returns the value of that integer plus 10%. The use case for this function would be to input the ex. GST price and return the inc. GST price.*"
   ]
  },
  {
   "cell_type": "code",
   "execution_count": null,
   "id": "bfd0ae9c",
   "metadata": {},
   "outputs": [],
   "source": [
    "# your code goes here"
   ]
  },
  {
   "cell_type": "markdown",
   "id": "ad507dae",
   "metadata": {},
   "source": [
    "#### Task 2\n",
    "\n",
    "Great! You've taken your first step!\n",
    "\n",
    "Now you've created a simple function that adds GST (10%) to a float, it's time to set our sights a little higher.\n",
    "\n",
    "Next, create the next generation of your function that will take in two inputs. The first is the ex. GST price i.e., float and the second will be a single character ('G' or 'N') to determine of the item passed in is subject to GST, or not. This function should return the correct value (i.e. depending on whether or not it was subject to GST.)\n",
    "\n",
    "**Hint** You might want to consider conditional logic within the function. If the value is subject to GST is will multiply by 1.1, otherwise it won't."
   ]
  },
  {
   "cell_type": "code",
   "execution_count": null,
   "id": "81d3d41f",
   "metadata": {},
   "outputs": [],
   "source": [
    "# your code goes here"
   ]
  },
  {
   "cell_type": "markdown",
   "id": "ff0de7fc",
   "metadata": {},
   "source": [
    "#### Task 3\n",
    "\n",
    "Nice, you’ve overcome the first hurdle - the Finance Manager is confident that you're going to be able to help her team!\n",
    "\n",
    "*The next task is to create a brand new function that will again take in a float as an input but this time, apply the relevant sliding scale mark up, based on the table above.*\n",
    "\n",
    "**Hint** Conditional logic will be your friend here."
   ]
  },
  {
   "cell_type": "code",
   "execution_count": null,
   "id": "f0b0e7cf",
   "metadata": {},
   "outputs": [],
   "source": [
    "# your code goes here"
   ]
  },
  {
   "cell_type": "markdown",
   "id": "763ca283",
   "metadata": {},
   "source": [
    "#### Task 4\n",
    "\n",
    "**Stop the press!!**\n",
    "\n",
    "Annie our friendly Finance Manager has been reading DOHA's documentation in more detail over the weekend and has realised that different fees/ markups apply depending on whether the hospital's pharmacy possesses a Section 90 or Section 94 license.\n",
    "\n",
    "*The next task is to modify the function above making the following changes:*\n",
    "\n",
    "*1. First there should now be two inputs: the cost (float) and a string to identify if the hospital has a `s90` or `s94` license.*\n",
    "\n",
    "*2. The function should then apply the correct markup structure. For `s90` this is exactly the same as you've already coded for the function in Task 3. For `s94` you simply add a flat 1.4% to the cost.*"
   ]
  },
  {
   "cell_type": "code",
   "execution_count": null,
   "id": "72ad79a1",
   "metadata": {},
   "outputs": [],
   "source": [
    "# your code goes here"
   ]
  },
  {
   "cell_type": "markdown",
   "id": "8177691b",
   "metadata": {},
   "source": [
    "#### Task 5\n",
    "\n",
    "This difference in marks ups (between s90 and s94) is causing concerns for the CEO of a group of private hospitals. \n",
    "\n",
    "*He’s requested (via Annie) that you create a new function, similar to that in Task 4, except this time it will print the revenue actually received (i.e. depending on whether it was s90 or s94) but additionally state the revenue that would have been received if the hospital in question had held the other license type. And finally, the function should also print the difference in actual versus potential revenue.*\n",
    "\n",
    "**Hint** Don’t be afraid to use sentences (print statements) for this task to avoid it using confusing for the end user."
   ]
  },
  {
   "cell_type": "code",
   "execution_count": null,
   "id": "1687f821",
   "metadata": {},
   "outputs": [],
   "source": [
    "# your code goes here"
   ]
  },
  {
   "cell_type": "markdown",
   "id": "9a4b54f9",
   "metadata": {},
   "source": [
    "#### Bonus Challenge\n",
    "\n",
    "Chemotherapy can sometimes cost tens of thousands of dollars. Therefore, using the information above, determine if there is a point (cost) at which it is more beneficial to hold a s94 license as opposed to a s90."
   ]
  },
  {
   "cell_type": "code",
   "execution_count": null,
   "id": "da1743b0",
   "metadata": {},
   "outputs": [],
   "source": [
    "# your code goes here"
   ]
  }
 ],
 "metadata": {
  "kernelspec": {
   "display_name": "Python 3 (ipykernel)",
   "language": "python",
   "name": "python3"
  },
  "language_info": {
   "codemirror_mode": {
    "name": "ipython",
    "version": 3
   },
   "file_extension": ".py",
   "mimetype": "text/x-python",
   "name": "python",
   "nbconvert_exporter": "python",
   "pygments_lexer": "ipython3",
   "version": "3.9.12"
  }
 },
 "nbformat": 4,
 "nbformat_minor": 5
}
